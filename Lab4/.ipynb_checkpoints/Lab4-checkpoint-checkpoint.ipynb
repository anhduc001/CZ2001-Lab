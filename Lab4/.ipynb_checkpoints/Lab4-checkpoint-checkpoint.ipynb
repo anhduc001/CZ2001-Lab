{
 "cells": [
  {
   "cell_type": "code",
   "execution_count": 6,
   "metadata": {
    "scrolled": true
   },
   "outputs": [
    {
     "name": "stderr",
     "output_type": "stream",
     "text": [
      "c:\\users\\v\\appdata\\local\\programs\\python\\python36\\lib\\site-packages\\ipykernel_launcher.py:7: FutureWarning: read_table is deprecated, use read_csv instead, passing sep='\\t'.\n",
      "  import sys\n"
     ]
    },
    {
     "name": "stdout",
     "output_type": "stream",
     "text": [
      "    Degree      P(k)\n",
      "0        1  0.228348\n",
      "1        2  0.212514\n",
      "2        3  0.148035\n",
      "3        4  0.095002\n",
      "4        5  0.056467\n",
      "5        6  0.042923\n",
      "6        7  0.030332\n",
      "7        8  0.026898\n",
      "8        9  0.018886\n",
      "9       10  0.017551\n",
      "10      11  0.012591\n",
      "11      13  0.010874\n",
      "12      15  0.009157\n",
      "13      12  0.008775\n",
      "14      23  0.008394\n",
      "15      17  0.008203\n",
      "16      14  0.007249\n",
      "17      34  0.007058\n",
      "18      20  0.005341\n",
      "19      16  0.004769\n",
      "20      18  0.004006\n",
      "21      42  0.003625\n",
      "22      19  0.003434\n",
      "23      21  0.003052\n",
      "24      45  0.002480\n",
      "25      22  0.002289\n",
      "26      31  0.001717\n",
      "27      33  0.001717\n",
      "28      24  0.001526\n",
      "29      25  0.001526\n",
      "..     ...       ...\n",
      "35      47  0.000763\n",
      "36      48  0.000572\n",
      "37      56  0.000572\n",
      "38      41  0.000572\n",
      "39      29  0.000572\n",
      "40      27  0.000572\n",
      "41      32  0.000572\n",
      "42      36  0.000382\n",
      "43      51  0.000382\n",
      "44      43  0.000382\n",
      "45      68  0.000382\n",
      "46      46  0.000382\n",
      "47      77  0.000382\n",
      "48      60  0.000191\n",
      "49      44  0.000191\n",
      "50      40  0.000191\n",
      "51      79  0.000191\n",
      "52      53  0.000191\n",
      "53      57  0.000191\n",
      "54      65  0.000191\n",
      "55      67  0.000191\n",
      "56      38  0.000191\n",
      "57      54  0.000191\n",
      "58      62  0.000191\n",
      "59      66  0.000191\n",
      "60      35  0.000191\n",
      "61      55  0.000191\n",
      "62      59  0.000191\n",
      "63      63  0.000191\n",
      "64      81  0.000191\n",
      "\n",
      "[65 rows x 2 columns]\n"
     ]
    },
    {
     "data": {
      "image/png": "[encoded data removed]",
      "text/plain": [
       "<Figure size 432x288 with 1 Axes>"
      ]
     },
     "metadata": {
      "needs_background": "light"
     },
     "output_type": "display_data"
    },
    {
     "data": {
      "image/png": "[encoded data removed]",
      "text/plain": [
       "<Figure size 432x288 with 1 Axes>"
      ]
     },
     "metadata": {
      "needs_background": "light"
     },
     "output_type": "display_data"
    }
   ],
   "source": [
    "import numpy as np\n",
    "import matplotlib.pyplot as plt\n",
    "import pandas as pd\n",
    "import math as math\n",
    "\n",
    "def cost_function(arr1, arr2):\n",
    "    cost = 0\n",
    "    l = len(arr1)\n",
    "    for i in range(l):\n",
    "        cost += (arr[1] - arr2) ** 2\n",
    "    return cost\n",
    "\n",
    "if __name__ == \"__main__\":\n",
    "    table = pd.read_table(\"CA-GrQc.txt\")\n",
    "\n",
    "    degrees_of_nodes = pd.DataFrame(table['FromNodeId'].value_counts()).rename(columns={'FromNodeId':'Degree'})\n",
    "    frequency_degrees = pd.DataFrame(degrees_of_nodes['Degree'].value_counts()).reset_index()\n",
    "    frequency_degrees = frequency_degrees.rename(columns=({'index':'Degree','Degree':'P(k)'}))\n",
    "    frequency_degrees['P(k)']/= 5242 # total node degree\n",
    "    print(frequency_degrees)\n",
    "\n",
    "    plt.hist(frequency_degrees['Degree'],weights=frequency_degrees['P(k)'])\n",
    "    plt.title('Required histogram between P(k) and the degree of the node')\n",
    "    plt.xlabel('Degree')\n",
    "    plt.ylabel('P(k)')\n",
    "    plt.show()\n",
    "    plt.hist(frequency_degrees['Degree'],weights=np.log10(frequency_degrees['P(k)']))\n",
    "\n",
    "    plt.xlabel('Degree')\n",
    "    plt.ylabel('Fraction of nodes')\n",
    "    plt.title('The histogram after applying the log function on P(k)')\n",
    "    plt.show()\n",
    "    # P(k) = a*k^(-gamma) --> F(k) = log_10(P(k)) = -gamma*log_10(k) + c (c = log_10(a))\n",
    "    # We try to find c and k to fit F(k)\n",
    "    beg = 2\n",
    "    end = 3\n",
    "    dist = 0.01\n",
    "    r = range(1, 82)\n",
    "    optimize_deviation = math.inf\n",
    "    i = beg\n",
    "    x = [index for index in r] # as degrees ranging from 1 to 81\n",
    "    # loop through to find the most optimize value of gamma\n",
    "    while (i < end):\n",
    "        y = [pow(k, -i) for k in r]\n",
    "        i = i + dist\n",
    "    \n",
    "    "
   ]
  },
  {
   "cell_type": "code",
   "execution_count": null,
   "metadata": {},
   "outputs": [],
   "source": []
  }
 ],
 "metadata": {
  "kernelspec": {
   "display_name": "Python 3",
   "language": "python",
   "name": "python3"
  },
  "language_info": {
   "codemirror_mode": {
    "name": "ipython",
    "version": 3
   },
   "file_extension": ".py",
   "mimetype": "text/x-python",
   "name": "python",
   "nbconvert_exporter": "python",
   "pygments_lexer": "ipython3",
   "version": "3.6.0"
  }
 },
 "nbformat": 4,
 "nbformat_minor": 2
}
