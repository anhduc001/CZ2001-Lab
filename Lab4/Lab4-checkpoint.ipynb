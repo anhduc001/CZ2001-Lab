{
 "cells": [
  {
   "cell_type": "code",
   "execution_count": 174,
   "metadata": {
    "scrolled": false
   },
   "outputs": [],
   "source": [
    "import numpy as np\n",
    "import matplotlib.pyplot as plt\n",
    "import pandas as pd\n",
    "import math as math\n",
    "\n",
    "\n",
    "class AdjNode:\n",
    "    def __init__(self,data):\n",
    "        self.vertex = data\n",
    "        self.next = None\n",
    "\n",
    "#Represent the network as an adjacency list\n",
    "class Graph:\n",
    "    def __init__(self,vertices):\n",
    "        self.V = vertices\n",
    "        self.graph = [None]*self.V\n",
    "        \n",
    "    \n",
    "    #Function to add an edge in an undirected graph\n",
    "    def add_half_edge(self, src,dest):\n",
    "        #Adding the node to the source node\n",
    "        node = AdjNode(dest)\n",
    "        node.next = self.graph[src]\n",
    "        self.graph[src] = node\n",
    "    \n",
    "    def print_graph(self):\n",
    "        for i in range(self.V):\n",
    "            print(\"Adjacency list of vertex {}\\n head\".format(i),end=\"\")\n",
    "            temp = self.graph[i]\n",
    "            while temp:\n",
    "                print(\" -> {}\".format(temp.v))\n",
    "\n",
    "def ResultPlotting():\n",
    "    \n",
    "    plt.plot([i for i in r], [(10 **  c) * pow(k, gamma) for k in r])\n",
    "    \n",
    "    plt.xlabel('Degree')\n",
    "    plt.ylabel('Fraction of nodes')\n",
    "    plt.title('Opimized gamma diagram plotting')\n",
    "    plt.savefig('result.png')\n",
    "    plt.show()\n",
    "    \n",
    "def linear_regression(x, y):\n",
    "    n = np.size(x)\n",
    "    # mean of x,y vector\n",
    "    m_x, m_y = np.mean(x), np.mean(y)\n",
    "    # calculating cross-deviation and deviation about x\n",
    "    SS_xy = np.sum(y * x) - n * m_y * m_x\n",
    "    SS_xx = np.sum(x * x) - n * m_x * m_x\n",
    "    # calculating linear regression coefficients\n",
    "    gamma = SS_xy / SS_xx\n",
    "    c = m_y - gamma * m_x\n",
    "    return (c, gamma)\n",
    "\n",
    "def plot_regression_line(x, y, c, gamma): \n",
    "    # plotting the actual points as scatter plot \n",
    "    plt.scatter(x, y, color = \"m\", \n",
    "               marker = \"o\", s = 30) \n",
    "  \n",
    "    # predicted response vector \n",
    "    y_pred = c + gamma * x \n",
    "  \n",
    "    # plotting the regression line \n",
    "    plt.plot(x, y_pred, color = \"g\") \n",
    "  \n",
    "    # putting labels \n",
    "    plt.xlabel('x') \n",
    "    plt.ylabel('y') \n",
    "  \n",
    "    # function to show plot \n",
    "    plt.show()\n",
    "    \n",
    "def cost_function(x, y, c, gamma):\n",
    "    matrix = y - (x * gamma + c)\n",
    "    return np.sum(np.square(matrix))\n",
    "\n",
    "    \n",
    "def DegreeFrequencyPlotting():\n",
    "    plt.hist(degrees[1:(max_degree+1)],weights=percentage_frequency[1:])\n",
    "    plt.title('Required histogram between P(k) and the degree of the node')\n",
    "    plt.xlabel('Degree')\n",
    "    plt.ylabel('P(k)')\n",
    "    plt.show()\n",
    "\n",
    "\n",
    "def dif(arr1, arr2):\n",
    "    s = 0\n",
    "    for i in range(len(arr1)):\n",
    "        s += (arr1[i] - arr2[i]) ** 2\n",
    "    return s\n",
    "\n",
    "\n",
    "\n",
    "    \n",
    "\n",
    "\n",
    "    "
   ]
  },
  {
   "cell_type": "code",
   "execution_count": 175,
   "metadata": {},
   "outputs": [
    {
     "data": {
      "image/png": "[encoded data removed]",
      "text/plain": [
       "<Figure size 432x288 with 1 Axes>"
      ]
     },
     "metadata": {
      "needs_background": "light"
     },
     "output_type": "display_data"
    }
   ],
   "source": [
    "table = pd.read_table(\"CA-GrQc.txt\")\n",
    "#Implementation of algorithm to count the degree of each node\n",
    "#Create a graph of 5242 nodes\n",
    "graph_extracted = Graph(5242)\n",
    "prev = -1\n",
    "map_real_to_created = {}\n",
    "count = -1\n",
    "for i in range(table['FromNodeId'].count()):\n",
    "    fromNode = table.iloc[i]['FromNodeId'] \n",
    "    toNode = table.iloc[i]['ToNodeId']\n",
    "    if fromNode not in map_real_to_created.keys():\n",
    "        count +=1\n",
    "        map_real_to_created[fromNode] = count\n",
    "    if toNode not in map_real_to_created.keys():\n",
    "        count +=1\n",
    "        map_real_to_created[toNode] = count\n",
    "    graph_extracted.add_half_edge(map_real_to_created[fromNode],map_real_to_created[toNode])\n",
    "\n",
    "#Count the degrees of the nodes from the adjacency list\n",
    "degrees = [0 for i in range(5242)]\n",
    "#We also want to find the maximum degree in the graph\n",
    "max_degree = 0\n",
    "for v in range(5242):\n",
    "    cur = graph_extracted.graph[v]\n",
    "    while (cur!=None):\n",
    "        degrees[v]+=1;\n",
    "        cur = cur.next\n",
    "    if degrees[v]>max_degree:\n",
    "        max_degree = degrees[v]\n",
    "\n",
    "#Count the frequency of the degrees\n",
    "#Maximum degree in a network of n nodes is n-1\n",
    "frequency = [0 for i in range(0,max_degree+1)]\n",
    "for degree in degrees:\n",
    "    frequency[degree]+=1\n",
    "\n",
    "percentage_frequency = [a/5242 for a in frequency]\n",
    "    \n",
    "#Plotting the histogram\n",
    "plt.hist(degrees[1:(max_degree+1)],weights=percentage_frequency[1:])\n",
    "plt.title('Required histogram between P(k) and the degree of the node')\n",
    "plt.xlabel('Degree')\n",
    "plt.ylabel('P(k)')\n",
    "plt.show()\n"
   ]
  },
  {
   "cell_type": "code",
   "execution_count": 176,
   "metadata": {},
   "outputs": [
    {
     "name": "stdout",
     "output_type": "stream",
     "text": [
      "In this linear regression\n",
      "Gamma optimized value is: -2.041643188303609\n",
      "Constant optimized value is: 0.10041457318024838\n",
      "With precision is: 6.008896007851952\n"
     ]
    },
    {
     "data": {
      "image/png": "[encoded data removed]",
      "text/plain": [
       "<Figure size 432x288 with 1 Axes>"
      ]
     },
     "metadata": {
      "needs_background": "light"
     },
     "output_type": "display_data"
    }
   ],
   "source": [
    " #create logarithm for linear regression\n",
    "r = range(1,max_degree+1)\n",
    "log_index = np.array([math.log10(index) for index in r if percentage_frequency[index] != 0]) \n",
    "log_percentage_frequency = np.array([math.log10(i) for i in percentage_frequency if i != 0])\n",
    "\n",
    "# we need to fit y = c * x ^ -gamma with c and gamma are needed to find constant\n",
    "# Taking log both sides, we arrived log(y) = log(c) +  log(x) * (-gamma) \n",
    "# applying linear regression to find the value of gamma and constant c for fitting the model\n",
    "c, gamma = linear_regression(log_index, log_percentage_frequency)\n",
    "precision = cost_function(log_index, log_percentage_frequency, c, gamma)\n",
    "print(\"In this linear regression\")\n",
    "print(\"Gamma optimized value is:\", gamma)\n",
    "print(\"Constant optimized value is:\",c);\n",
    "print(\"With precision is:\",precision)\n",
    "# plotting the graph as well as saving the optimized plotting result\n",
    "plot_regression_line(log_index, log_percentage_frequency, c, gamma)\n"
   ]
  },
  {
   "cell_type": "code",
   "execution_count": 177,
   "metadata": {
    "scrolled": false
   },
   "outputs": [
    {
     "name": "stdout",
     "output_type": "stream",
     "text": [
      "Actual precision with the power-law function:  1.0745002950859779\n"
     ]
    },
    {
     "data": {
      "image/png": "[encoded data removed]",
      "text/plain": [
       "<Figure size 432x288 with 1 Axes>"
      ]
     },
     "metadata": {
      "needs_background": "light"
     },
     "output_type": "display_data"
    }
   ],
   "source": [
    "#\n",
    "print(\"Actual precision with the power-law function: \", dif(percentage_frequency[1:],[(10 **  c) * pow(k, gamma) for k in r]))\n",
    "ResultPlotting()\n"
   ]
  },
  {
   "cell_type": "markdown",
   "metadata": {},
   "source": [
    "### Therefore, the gamma to fit for this model is: 2.04164318830360"
   ]
  },
  {
   "cell_type": "code",
   "execution_count": null,
   "metadata": {},
   "outputs": [],
   "source": []
  }
 ],
 "metadata": {
  "kernelspec": {
   "display_name": "Python 3",
   "language": "python",
   "name": "python3"
  },
  "language_info": {
   "codemirror_mode": {
    "name": "ipython",
    "version": 3
   },
   "file_extension": ".py",
   "mimetype": "text/x-python",
   "name": "python",
   "nbconvert_exporter": "python",
   "pygments_lexer": "ipython3",
   "version": "3.7.4"
  }
 },
 "nbformat": 4,
 "nbformat_minor": 2
}
